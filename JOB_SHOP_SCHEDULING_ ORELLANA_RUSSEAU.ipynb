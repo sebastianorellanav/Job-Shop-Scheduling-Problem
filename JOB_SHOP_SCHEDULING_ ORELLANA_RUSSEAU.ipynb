{
 "cells": [
  {
   "cell_type": "markdown",
   "id": "debc8b11-8206-4a55-83e9-ee821182bbd7",
   "metadata": {},
   "source": [
    "# Job Shop Scheduling Problem\n",
    "### Informe 1 - Trabajo de Investigación\n",
    "\n",
    "Integrantes: Sebastian Orellana  \n",
    "&nbsp;&nbsp;&nbsp;&nbsp;&nbsp;&nbsp;&nbsp;&nbsp;&nbsp;&nbsp;&nbsp;&nbsp;&nbsp;&nbsp;&nbsp;&nbsp;&nbsp;&nbsp;&nbsp;  Francisco Russeau"
   ]
  },
  {
   "cell_type": "markdown",
   "id": "4b6d8d79",
   "metadata": {},
   "source": [
    "## Problema\n",
    "Se consideran n trabajos. Cada trabajo se compone de un conjunto de m operaciones, las cuales deben procesarse en un orden específico (restricciones de precedencia). El procesamiento de cada operación se asocia a una máquina específica. En un momento dado solo se puede procesar una operación de un trabajo. Se intenta minimizar el tiempo total de la programación que procesa todos los trabajos."
   ]
  },
  {
   "cell_type": "markdown",
   "id": "eea55768",
   "metadata": {},
   "source": [
    "Seda, M. (2007). Mathematical Models of Flow Shop and Job Shop Scheduling\n",
    "Problems. World Academy of Science, Engineering and Technology, International\n",
    "Journal of Mathematical, Computational, Physical, Electrical and Computer Engineering, 1, 307-312.\n",
    "https://citeseerx.ist.psu.edu/viewdoc/summary?doi=10.1.1.193.2697"
   ]
  },
  {
   "cell_type": "markdown",
   "id": "506a1323",
   "metadata": {},
   "source": [
    "# Modelo"
   ]
  },
  {
   "cell_type": "markdown",
   "id": "af517249-a87f-4b27-b6c2-ba75432eb731",
   "metadata": {},
   "source": [
    "Se definen los módulos y el solver a utilizar para optimizar el problema"
   ]
  },
  {
   "cell_type": "code",
   "execution_count": null,
   "id": "b05ff221",
   "metadata": {},
   "outputs": [],
   "source": [
    "using JuMP\n",
    "using GLPK"
   ]
  },
  {
   "cell_type": "markdown",
   "id": "bad1a5e9-bc03-4bc2-beb1-1bfc5344002e",
   "metadata": {},
   "source": [
    "Se crea una instancia del solver para optimizar el modelo."
   ]
  },
  {
   "cell_type": "code",
   "execution_count": null,
   "id": "ed075c51-7e97-4d40-803a-2b785ad1e9b2",
   "metadata": {},
   "outputs": [],
   "source": [
    "jssp = Model(GLPK.Optimizer)"
   ]
  },
  {
   "cell_type": "markdown",
   "id": "4775be59-1a56-46b6-bf38-cd5aa41ca7ed",
   "metadata": {},
   "source": [
    "## Constantes\n",
    "Se define la matriz de tiempos de procesamiento para cada trabajo j asociado a la máquina m y también la matriz de secuenciación de cada trabajo j asociado a la máquina m."
   ]
  },
  {
   "cell_type": "code",
   "execution_count": null,
   "id": "190c4db3",
   "metadata": {},
   "outputs": [],
   "source": [
    "# Matriz de tiempos de procesamiento del trabajo j para la máquina m\n",
    " T = [5  7  10\n",
    "     9  5  3\n",
    "     5  8  2\n",
    "     2  7  4\n",
    "     8  8  8]\n",
    "\n",
    "# Matriz de secuenciación del trabajo j para la máquina m\n",
    "P = [2  1  3\n",
    "     1  2  3\n",
    "     3  2  1\n",
    "     2  1  3\n",
    "     3  1  2]"
   ]
  },
  {
   "cell_type": "markdown",
   "id": "24edd1aa-c25f-42b0-97f3-c6f96b769578",
   "metadata": {},
   "source": [
    "Luego se definen otras constantes que serán usadas más adelante cuando se definan las variables y restricciones del modelo."
   ]
  },
  {
   "cell_type": "code",
   "execution_count": null,
   "id": "8f6408e2-3b1d-40c2-a9ba-abd054e4e1c5",
   "metadata": {},
   "outputs": [],
   "source": [
    "J,M = size(T)\n",
    "V = sum(T)\n",
    "n = 1:J;\n",
    "m = 1:M;"
   ]
  },
  {
   "cell_type": "markdown",
   "id": "1f3bff0e-678f-4f38-a753-19fb38d4fb9f",
   "metadata": {},
   "source": [
    "## Variables de desición \n",
    "A continuación se definen las variables de desición que se utilizarán en el modelo."
   ]
  },
  {
   "cell_type": "code",
   "execution_count": null,
   "id": "3c06ef78",
   "metadata": {},
   "outputs": [],
   "source": [
    "#################################################################################################################\n",
    "#################################         VARIABLES DE DECISIÓN           #######################################\n",
    "\n",
    "# x(i,j) -> instante de inicio del trabajo j en la máquina i\n",
    "@variable(jssp, x[j = 1:J, i = 1:M] ≥ 0)\n",
    "\n",
    "# z(k,j,i) = 1 -> si el trabajo j precede al trabajo k en la máquina i\n",
    "@variable(jssp, z[k = 1:J, j = 1:J, i = 1:M], Bin)\n",
    "\n",
    "# Cmax -> instante de término del n-ésimo trabajo en la m-ésima máquina (makespan)\n",
    "@variable(jssp, Cmax ≥ 0)"
   ]
  },
  {
   "cell_type": "markdown",
   "id": "895d1474-2217-4113-b8ff-60d449c0c351",
   "metadata": {},
   "source": [
    "## Función Objetivo\n",
    "Luego, se define la función objetivo que se desea optimizar. En este caso corresponde a Minimizar el makespan, es decir, minimizar el tiempo que demoran en conjunto todas las máquinas en ejecutar todas las tareas."
   ]
  },
  {
   "cell_type": "code",
   "execution_count": null,
   "id": "6585825d-d85b-4bec-9e97-e0a074279403",
   "metadata": {},
   "outputs": [],
   "source": [
    "#################################################################################################################\n",
    "#################################        FUNCIÓN OBJETIVO           #############################################\n",
    "\n",
    "# Min z = Cmax\n",
    "@objective(jssp, Min, Cmax)"
   ]
  },
  {
   "cell_type": "markdown",
   "id": "a65e5fa0-4c95-4a36-88e0-5b37b26c7f33",
   "metadata": {},
   "source": [
    "## Restricciones\n",
    "Luego, se definen las restricciones a utilizar en el modelo y que acotarán el conjunto de desiciones."
   ]
  },
  {
   "cell_type": "code",
   "execution_count": null,
   "id": "f1515642-5631-433e-a0ca-e72923d3d706",
   "metadata": {},
   "outputs": [],
   "source": [
    "#################################################################################################################\n",
    "####################################         RESTRICCIONES         ##############################################\n",
    "\n",
    "# x(i,j) >= 0,           ∀ j = 1:J, i = 1:M\n",
    "@constraint(jssp, [i = 1:M, j = 1:J], x[j,i] ≥ 0)\n",
    "\n",
    "# x(P[h,j], j) >= x(P[h-1,j], j) + T(P[h-1,j], j),            ∀ j = 1:J, h = 2:M\n",
    "@constraint(jssp, [i = 1:M-1, j = 1:J], x[j,P[j,i+1]] ≥ x[j,P[j,i]] + T[j,P[j,i]])\n",
    "\n",
    "# x(i,j) ≥ x(i,k) + T(i,k) − V · z(i,j,k),                 ∀ j e k 1:J, j < k, i ∈ M\n",
    "@constraint(jssp, [i = 1:M, j = 1:J, k = 1:J; j ≠ k], x[j,i] ≥ x[k,i] + T[k,i] - V * z[k,j,i])\n",
    "\n",
    "# x(i,k) ≥ x(i,j) + T(i,j) − V · (1 − z(i,j,k)),             ∀ j, k ∈ J, j < k, i ∈ M\n",
    "@constraint(jssp, [i = 1:M, j = 1:J, k = 1:J; j ≠ k], x[k,i] ≥ x[j,i] + T[j,i] - V * (1 - z[k,j,i]))\n",
    "\n",
    "# Cmax ≥ x(P[m,j], j) + T(P[m,j], j),                        ∀ j ∈ J\n",
    "@constraint(jssp, [j = 1:J], Cmax ≥ x[j,P[j,M]] + T[j,P[j,M]])"
   ]
  },
  {
   "cell_type": "markdown",
   "id": "5ac04aa7-216c-4adb-bfab-0a0de2f8ec53",
   "metadata": {},
   "source": [
    "# Optimizar el modelo\n",
    "Por último, se optimiza el modelo utilizando el solver GLPK, el cual para problemas enteros utiliza el método ramificación y acotamiento."
   ]
  },
  {
   "cell_type": "code",
   "execution_count": null,
   "id": "3e2ee288",
   "metadata": {},
   "outputs": [],
   "source": [
    "#################################################################################################################\n",
    "###################################         SOLUCIÓN           ##################################################\n",
    "\n",
    "# Optimizar el modelo\n",
    "optimize!(jssp)\n",
    "\n",
    "# Valor de la función objetivo en el óptimo\n",
    "objective_value(jssp)"
   ]
  },
  {
   "cell_type": "markdown",
   "id": "17302156-01ca-4a6a-9ffb-f8b5825c6ab5",
   "metadata": {},
   "source": [
    "## Variables de la solución óptima"
   ]
  },
  {
   "cell_type": "code",
   "execution_count": null,
   "id": "e4b405c1-b2e8-46d3-b899-a06658dd5c0c",
   "metadata": {},
   "outputs": [],
   "source": [
    "println(\"instante de inicio del trabajo j en la máquina i\")\n",
    "for j in 1:J\n",
    "    for i in 1:M\n",
    "        println(\"Variable X\",j,i,\" = \",value(x[j,i]))\n",
    "    end\n",
    "end\n",
    "\n",
    "println(\"\")\n",
    "println(\"Si el trabajo j precede al trabajo k en la máquina i\")\n",
    "for k in 1:J\n",
    "    for j in 1:J\n",
    "        for i in 1:M\n",
    "            println(\"Variable Z\",k,j,i,\" = \",value(z[k,j,i])) \n",
    "        end\n",
    "    end\n",
    "end"
   ]
  },
  {
   "cell_type": "markdown",
   "id": "b46c0fc4-5240-48fd-9ef1-16c274c2b95e",
   "metadata": {},
   "source": [
    "## Otras matrices que se utilizaron\n",
    "\n",
    "Para realizar pruebas sobre el modelo definido y registrar los tiempos de ejecución se utilizaron diferentes matrices con diferentes tamaños, es decir varíaba la cantidad de máquinas y trabajos que se debían procesar por cada una. A contniuación, se muestran las otras matrices que fueron utilizadas para las pruebas."
   ]
  },
  {
   "cell_type": "markdown",
   "id": "7ce738f9-1501-41ac-9f1e-677da3380757",
   "metadata": {},
   "source": [
    "### Matriz de 5x4"
   ]
  },
  {
   "cell_type": "code",
   "execution_count": null,
   "id": "ec2d88ff-5e53-4169-9bc5-bf06e73ea2de",
   "metadata": {},
   "outputs": [],
   "source": [
    "#5x4\n",
    "T = [25 75 75 76 \n",
    "     67  5 11 11 \n",
    "     22 98  8 35 \n",
    "     99 42  2 35 \n",
    "     50  5 59 71]\n",
    "\n",
    "P = [1 3 4 2\n",
    "     2 1 3 4\n",
    "     1 2 4 3\n",
    "     3 1 2 4\n",
    "     4 2 1 3]\n",
    "\n",
    "# Constantes\n",
    "J,M = size(T)\n",
    "V = sum(T)\n",
    "n = 1:J;\n",
    "m = 1:M;"
   ]
  },
  {
   "cell_type": "markdown",
   "id": "8bd6fa2d-c646-4f95-a0ac-f002691baf00",
   "metadata": {},
   "source": [
    "### Matriz de 5x5"
   ]
  },
  {
   "cell_type": "code",
   "execution_count": null,
   "id": "9779ff3c-42f4-4c00-9240-876a1b525341",
   "metadata": {},
   "outputs": [],
   "source": [
    "T = [25 75 75 76 12 \n",
    "     67  5 11 11 11\n",
    "     22 98  8 35 9\n",
    "     99 42  2 35 19\n",
    "     50  5 59 71 13]\n",
    "\n",
    "P = [1 3 4 2 5\n",
    "     2 1 3 5 4\n",
    "     1 2 5 4 3\n",
    "     3 5 1 2 4\n",
    "     4 2 5 1 3]\n",
    "\n",
    "#Constantes\n",
    "J,M = size(T)\n",
    "V = sum(T)\n",
    "n = 1:J;\n",
    "m = 1:M;"
   ]
  },
  {
   "cell_type": "markdown",
   "id": "ac2f28b8-0a78-4f89-9c5e-a2f4c14df992",
   "metadata": {},
   "source": [
    "### Matriz de 6x5"
   ]
  },
  {
   "cell_type": "code",
   "execution_count": null,
   "id": "1f77deaf-d59f-4da9-a807-e0c9018a0756",
   "metadata": {},
   "outputs": [],
   "source": [
    "T = [15 85 15 66 22  \n",
    "     57 25 26 9 11\n",
    "     23 68 8 35 9\n",
    "     76 32 12 35 19\n",
    "     41 15 23 62 13\n",
    "     32 19 28 45 29]\n",
    "\n",
    "P = [1 3 4 2 5\n",
    "     2 1 3 5 4\n",
    "     2 1 3 4 5\n",
    "     2 4 5 3 1\n",
    "     1 3 2 5 4\n",
    "     5 4 2 1 3]\n",
    "\n",
    "#Constantes\n",
    "J,M = size(T)\n",
    "V = sum(T)\n",
    "n = 1:J;\n",
    "m = 1:M;"
   ]
  },
  {
   "cell_type": "markdown",
   "id": "de19ee6a-aff1-40a8-8258-2939a0b10412",
   "metadata": {},
   "source": [
    "### Matriz de 6x6"
   ]
  },
  {
   "cell_type": "code",
   "execution_count": null,
   "id": "cb1c378f-54fb-4493-a9c7-f61897a90f34",
   "metadata": {},
   "outputs": [],
   "source": [
    "#6x6\n",
    "T = [15 45 15 36 22 56  \n",
    "     57 25 26 9 11 43\n",
    "     23 28 8 35 9 26\n",
    "     56 32 12 35 19 32\n",
    "     41 15 23 62 13 26\n",
    "     32 19 28 45 29 43]\n",
    "\n",
    "P = [1 3 4 2 5 6\n",
    "     2 1 3 6 5 4\n",
    "     2 1 6 3 4 5\n",
    "     2 4 5 6 3 1\n",
    "     6 1 3 2 5 4\n",
    "     5 6 4 2 1 3]\n",
    "\n",
    "# Constantes\n",
    "J,M = size(T)\n",
    "V = sum(T)\n",
    "n = 1:J;\n",
    "m = 1:M;"
   ]
  },
  {
   "cell_type": "markdown",
   "id": "e256012e-90c6-4611-8320-0eaab6ade46d",
   "metadata": {},
   "source": [
    "### Matriz de 7x6"
   ]
  },
  {
   "cell_type": "code",
   "execution_count": null,
   "id": "6662adb6-dffb-416f-a7e7-4bc246c198d3",
   "metadata": {},
   "outputs": [],
   "source": [
    "#7x6\n",
    "T = [15 45 15 36 22 56  \n",
    "     57 25 26 9 11 43\n",
    "     23 28 8 35 9 26\n",
    "     56 32 12 35 19 32\n",
    "     41 15 23 62 13 26\n",
    "     32 19 28 45 29 43\n",
    "     12 5 6 23 15 21]\n",
    "\n",
    "P = [1 3 4 2 5 6\n",
    "     2 1 3 6 5 4\n",
    "     2 1 6 3 4 5\n",
    "     2 4 5 6 3 1\n",
    "     6 1 3 2 5 4\n",
    "     5 6 4 2 1 3\n",
    "     4 3 6 5 2 1]\n",
    "\n",
    "# Constantes\n",
    "J,M = size(T)\n",
    "V = sum(T)\n",
    "n = 1:J;\n",
    "m = 1:M;"
   ]
  },
  {
   "cell_type": "markdown",
   "id": "e5150122-a375-4e45-92fe-5353ad2d5ca7",
   "metadata": {},
   "source": [
    "### Matriz de 15x15"
   ]
  },
  {
   "cell_type": "code",
   "execution_count": null,
   "id": "a6544e35-27d1-46f0-a35f-d70937a01b00",
   "metadata": {},
   "outputs": [],
   "source": [
    "T = [ 94 66 10 53 26 15 65 82 10 27 93 92 96 70 83\n",
    "      74 31 88 51 57 78  8  7 91 79 18 51 18 99 33\n",
    "       4 82 40 86 50 54 21  6 54 68 82 20 39 35 68\n",
    "      73 23 30 30 53 94 58 93 32 91 30 56 27 92  9\n",
    "      78 23 21 60 36 29 95 99 79 76 93 42 52 42 96\n",
    "      29 61 88 70 16 31 65 83 78 26 50 87 62 14 30\n",
    "      18 75 20  4 91 68 19 54 85 73 43 24 37 87 66\n",
    "      32 52  9 49 61 35 99 62  6 62  7 80  3 57  7\n",
    "      85 30 96 91 13 87 82 83 78 56 85  8 66 88 15\n",
    "       5 59 30 60 41 17 66 89 78 88 69 45 82  6 13\n",
    "      90 27  1  8 91 80 89 49 32 28 90 93  6 35 73\n",
    "      47 43 75  8 51  3 84 34 28 60 69 45 67 58 87\n",
    "      65 62 97 20 31 33 33 77 50 80 48 90 75 96 44\n",
    "      28 21 51 75 17 89 59 56 63 18 17 30 16  7 35\n",
    "      57 16 42 34 37 26 68 73  5  8 12 87 83 20 97]\n",
    "\n",
    "P = [ 7 13  5  8  4  3 11 12  9 15 10 14  6  1  2\n",
    "      5  6  8 15 14  9 12 10  7 11  1  4 13  2  3\n",
    "      2  9 10 13  7 12 14  6  1  3  8 11  5  4 15\n",
    "      6  3 10  7 11  1 14  5  8 15 12  9 13  2  4\n",
    "      8  9  7 11  5 10  3 15 13  6  2 14 12  1  4\n",
    "      6  4 13 14 12  5 15  8  3  2 11  1 10  7  9\n",
    "     13  4  8  9 15  7  2 12  5  6  3 11  1 14 10\n",
    "     12  6  1  8 13 14 15  2  3  9  5  4 10  7 11\n",
    "     11 12  7 15  1  2  3  6 13  5  9  8 10 14  4\n",
    "      7 12 10  3  9  1 14  4 11  8  2 13 15  5  6\n",
    "      5  8 14  1  6 13  7  9 15 11  4  2 12 10  3\n",
    "      3 15  1 13  7 11  8  6  9 10 14  2  4 12  5\n",
    "      6  9 11  3  4  7 10  1 14  5  2 12 13  8 15\n",
    "      9 15  5 14  6  7 10  2 13  8 12 11  4  3  1\n",
    "     11  9 13  7  5  2 14 15 12  1  8  4  3 10  6]\n",
    "\n",
    "# Constantes\n",
    "J,M = size(T)\n",
    "V = sum(T)\n",
    "n = 1:J;\n",
    "m = 1:M;"
   ]
  }
 ],
 "metadata": {
  "kernelspec": {
   "display_name": "Julia 1.7.2",
   "language": "julia",
   "name": "julia-1.7"
  },
  "language_info": {
   "file_extension": ".jl",
   "mimetype": "application/julia",
   "name": "julia",
   "version": "1.7.2"
  }
 },
 "nbformat": 4,
 "nbformat_minor": 5
}
